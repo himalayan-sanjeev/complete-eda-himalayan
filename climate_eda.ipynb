{
 "cells": [
  {
   "cell_type": "markdown",
   "metadata": {},
   "source": [
    "# Climate Data Exploratory Data Analysis\n",
    "\n",
    "## Introduction\n",
    "This notebook contains an exploratory data analysis of climate data from 1900 to 2023. The dataset includes global temperatures, CO2 concentration, sea level rise, and Arctic ice area.\n",
    "\n",
    "Your task is to perform a comprehensive EDA following the requirements in the README.md file."
   ]
  },
  {
   "cell_type": "code",
   "execution_count": 3,
   "metadata": {},
   "outputs": [],
   "source": [
    "# Import required libraries\n",
    "import pandas as pd\n",
    "import numpy as np\n",
    "import matplotlib.pyplot as plt\n",
    "import seaborn as sns\n",
    "\n",
    "# Set plot styling\n",
    "plt.style.use('dark_background')\n",
    "sns.set_palette('viridis')\n",
    "%matplotlib inline"
   ]
  },
  {
   "cell_type": "markdown",
   "metadata": {},
   "source": [
    "## 1. Data Preparation\n",
    "\n",
    "Load the climate data and perform necessary cleaning and aggregation."
   ]
  },
  {
   "cell_type": "code",
   "execution_count": 6,
   "metadata": {},
   "outputs": [
    {
     "data": {
      "text/html": [
       "<div>\n",
       "<style scoped>\n",
       "    .dataframe tbody tr th:only-of-type {\n",
       "        vertical-align: middle;\n",
       "    }\n",
       "\n",
       "    .dataframe tbody tr th {\n",
       "        vertical-align: top;\n",
       "    }\n",
       "\n",
       "    .dataframe thead th {\n",
       "        text-align: right;\n",
       "    }\n",
       "</style>\n",
       "<table border=\"1\" class=\"dataframe\">\n",
       "  <thead>\n",
       "    <tr style=\"text-align: right;\">\n",
       "      <th></th>\n",
       "      <th>Year</th>\n",
       "      <th>Global Average Temperature (°C)</th>\n",
       "      <th>CO2 Concentration (ppm)</th>\n",
       "      <th>Sea Level Rise (mm)</th>\n",
       "      <th>Arctic Ice Area (million km²)</th>\n",
       "    </tr>\n",
       "  </thead>\n",
       "  <tbody>\n",
       "    <tr>\n",
       "      <th>0</th>\n",
       "      <td>1948</td>\n",
       "      <td>13.17</td>\n",
       "      <td>397.04</td>\n",
       "      <td>116.25</td>\n",
       "      <td>5.97</td>\n",
       "    </tr>\n",
       "    <tr>\n",
       "      <th>1</th>\n",
       "      <td>1996</td>\n",
       "      <td>13.10</td>\n",
       "      <td>313.17</td>\n",
       "      <td>277.92</td>\n",
       "      <td>9.66</td>\n",
       "    </tr>\n",
       "    <tr>\n",
       "      <th>2</th>\n",
       "      <td>2015</td>\n",
       "      <td>14.67</td>\n",
       "      <td>311.95</td>\n",
       "      <td>290.32</td>\n",
       "      <td>8.40</td>\n",
       "    </tr>\n",
       "    <tr>\n",
       "      <th>3</th>\n",
       "      <td>1966</td>\n",
       "      <td>14.79</td>\n",
       "      <td>304.25</td>\n",
       "      <td>189.71</td>\n",
       "      <td>11.83</td>\n",
       "    </tr>\n",
       "    <tr>\n",
       "      <th>4</th>\n",
       "      <td>1992</td>\n",
       "      <td>13.15</td>\n",
       "      <td>354.52</td>\n",
       "      <td>14.84</td>\n",
       "      <td>11.23</td>\n",
       "    </tr>\n",
       "  </tbody>\n",
       "</table>\n",
       "</div>"
      ],
      "text/plain": [
       "   Year  Global Average Temperature (°C)  CO2 Concentration (ppm)  \\\n",
       "0  1948                            13.17                   397.04   \n",
       "1  1996                            13.10                   313.17   \n",
       "2  2015                            14.67                   311.95   \n",
       "3  1966                            14.79                   304.25   \n",
       "4  1992                            13.15                   354.52   \n",
       "\n",
       "   Sea Level Rise (mm)  Arctic Ice Area (million km²)  \n",
       "0               116.25                           5.97  \n",
       "1               277.92                           9.66  \n",
       "2               290.32                           8.40  \n",
       "3               189.71                          11.83  \n",
       "4                14.84                          11.23  "
      ]
     },
     "execution_count": 6,
     "metadata": {},
     "output_type": "execute_result"
    }
   ],
   "source": [
    "# Load the dataset\n",
    "df = pd.read_csv('data/Climate_Change_Indicators.csv')\n",
    "\n",
    "# Display the first few rows of the dataset\n",
    "df.head()"
   ]
  },
  {
   "cell_type": "code",
   "execution_count": 7,
   "metadata": {},
   "outputs": [
    {
     "name": "stdout",
     "output_type": "stream",
     "text": [
      "Dataset Information:\n",
      "<class 'pandas.core.frame.DataFrame'>\n",
      "RangeIndex: 1048576 entries, 0 to 1048575\n",
      "Data columns (total 5 columns):\n",
      " #   Column                           Non-Null Count    Dtype  \n",
      "---  ------                           --------------    -----  \n",
      " 0   Year                             1048576 non-null  int64  \n",
      " 1   Global Average Temperature (°C)  1048576 non-null  float64\n",
      " 2   CO2 Concentration (ppm)          1048576 non-null  float64\n",
      " 3   Sea Level Rise (mm)              1048576 non-null  float64\n",
      " 4   Arctic Ice Area (million km²)    1048576 non-null  float64\n",
      "dtypes: float64(4), int64(1)\n",
      "memory usage: 40.0 MB\n",
      "None\n",
      "\n",
      "Missing Values:\n",
      "Year                               0\n",
      "Global Average Temperature (°C)    0\n",
      "CO2 Concentration (ppm)            0\n",
      "Sea Level Rise (mm)                0\n",
      "Arctic Ice Area (million km²)      0\n",
      "dtype: int64\n"
     ]
    }
   ],
   "source": [
    "# Check for missing values and basic information about the dataset\n",
    "print(\"Dataset Information:\")\n",
    "print(df.info())\n",
    "print(\"\\nMissing Values:\")\n",
    "print(df.isnull().sum())"
   ]
  },
  {
   "cell_type": "code",
   "execution_count": 19,
   "metadata": {},
   "outputs": [
    {
     "data": {
      "text/html": [
       "<div>\n",
       "<style scoped>\n",
       "    .dataframe tbody tr th:only-of-type {\n",
       "        vertical-align: middle;\n",
       "    }\n",
       "\n",
       "    .dataframe tbody tr th {\n",
       "        vertical-align: top;\n",
       "    }\n",
       "\n",
       "    .dataframe thead th {\n",
       "        text-align: right;\n",
       "    }\n",
       "</style>\n",
       "<table border=\"1\" class=\"dataframe\">\n",
       "  <thead>\n",
       "    <tr style=\"text-align: right;\">\n",
       "      <th></th>\n",
       "      <th>Year</th>\n",
       "      <th>Global Average Temperature (°C)</th>\n",
       "      <th>CO2 Concentration (ppm)</th>\n",
       "      <th>Sea Level Rise (mm)</th>\n",
       "      <th>Arctic Ice Area (million km²)</th>\n",
       "    </tr>\n",
       "  </thead>\n",
       "  <tbody>\n",
       "    <tr>\n",
       "      <th>0</th>\n",
       "      <td>1900</td>\n",
       "      <td>14.506663</td>\n",
       "      <td>350.373405</td>\n",
       "      <td>150.408288</td>\n",
       "      <td>8.978659</td>\n",
       "    </tr>\n",
       "    <tr>\n",
       "      <th>1</th>\n",
       "      <td>1901</td>\n",
       "      <td>14.485343</td>\n",
       "      <td>349.757140</td>\n",
       "      <td>150.548828</td>\n",
       "      <td>8.947272</td>\n",
       "    </tr>\n",
       "    <tr>\n",
       "      <th>2</th>\n",
       "      <td>1902</td>\n",
       "      <td>14.476262</td>\n",
       "      <td>349.299686</td>\n",
       "      <td>152.174821</td>\n",
       "      <td>9.035554</td>\n",
       "    </tr>\n",
       "    <tr>\n",
       "      <th>3</th>\n",
       "      <td>1903</td>\n",
       "      <td>14.492360</td>\n",
       "      <td>349.644375</td>\n",
       "      <td>150.138338</td>\n",
       "      <td>9.056501</td>\n",
       "    </tr>\n",
       "    <tr>\n",
       "      <th>4</th>\n",
       "      <td>1904</td>\n",
       "      <td>14.494241</td>\n",
       "      <td>349.537032</td>\n",
       "      <td>150.667318</td>\n",
       "      <td>8.990691</td>\n",
       "    </tr>\n",
       "    <tr>\n",
       "      <th>...</th>\n",
       "      <td>...</td>\n",
       "      <td>...</td>\n",
       "      <td>...</td>\n",
       "      <td>...</td>\n",
       "      <td>...</td>\n",
       "    </tr>\n",
       "    <tr>\n",
       "      <th>119</th>\n",
       "      <td>2019</td>\n",
       "      <td>14.500105</td>\n",
       "      <td>348.642249</td>\n",
       "      <td>151.020415</td>\n",
       "      <td>9.014690</td>\n",
       "    </tr>\n",
       "    <tr>\n",
       "      <th>120</th>\n",
       "      <td>2020</td>\n",
       "      <td>14.496937</td>\n",
       "      <td>350.021731</td>\n",
       "      <td>150.219741</td>\n",
       "      <td>9.054254</td>\n",
       "    </tr>\n",
       "    <tr>\n",
       "      <th>121</th>\n",
       "      <td>2021</td>\n",
       "      <td>14.501424</td>\n",
       "      <td>350.150302</td>\n",
       "      <td>150.187456</td>\n",
       "      <td>8.968700</td>\n",
       "    </tr>\n",
       "    <tr>\n",
       "      <th>122</th>\n",
       "      <td>2022</td>\n",
       "      <td>14.495233</td>\n",
       "      <td>350.493023</td>\n",
       "      <td>148.857646</td>\n",
       "      <td>8.942012</td>\n",
       "    </tr>\n",
       "    <tr>\n",
       "      <th>123</th>\n",
       "      <td>2023</td>\n",
       "      <td>14.474559</td>\n",
       "      <td>351.003294</td>\n",
       "      <td>148.355918</td>\n",
       "      <td>8.984517</td>\n",
       "    </tr>\n",
       "  </tbody>\n",
       "</table>\n",
       "<p>124 rows × 5 columns</p>\n",
       "</div>"
      ],
      "text/plain": [
       "     Year  Global Average Temperature (°C)  CO2 Concentration (ppm)  \\\n",
       "0    1900                        14.506663               350.373405   \n",
       "1    1901                        14.485343               349.757140   \n",
       "2    1902                        14.476262               349.299686   \n",
       "3    1903                        14.492360               349.644375   \n",
       "4    1904                        14.494241               349.537032   \n",
       "..    ...                              ...                      ...   \n",
       "119  2019                        14.500105               348.642249   \n",
       "120  2020                        14.496937               350.021731   \n",
       "121  2021                        14.501424               350.150302   \n",
       "122  2022                        14.495233               350.493023   \n",
       "123  2023                        14.474559               351.003294   \n",
       "\n",
       "     Sea Level Rise (mm)  Arctic Ice Area (million km²)  \n",
       "0             150.408288                       8.978659  \n",
       "1             150.548828                       8.947272  \n",
       "2             152.174821                       9.035554  \n",
       "3             150.138338                       9.056501  \n",
       "4             150.667318                       8.990691  \n",
       "..                   ...                            ...  \n",
       "119           151.020415                       9.014690  \n",
       "120           150.219741                       9.054254  \n",
       "121           150.187456                       8.968700  \n",
       "122           148.857646                       8.942012  \n",
       "123           148.355918                       8.984517  \n",
       "\n",
       "[124 rows x 5 columns]"
      ]
     },
     "execution_count": 19,
     "metadata": {},
     "output_type": "execute_result"
    }
   ],
   "source": [
    "# Aggregate data by year to create a 124-year time series\n",
    "year_based_data = df.groupby('Year').agg('mean').reset_index().sort_values('Year')\n",
    "# year_based_data.head()\n",
    "year_based_data"
   ]
  },
  {
   "cell_type": "markdown",
   "metadata": {},
   "source": [
    "## 2. Univariate Analysis\n",
    "\n",
    "Analyze each climate variable independently."
   ]
  },
  {
   "cell_type": "code",
   "execution_count": null,
   "metadata": {},
   "outputs": [],
   "source": [
    "# TODO: Perform univariate analysis for each climate variable\n",
    "# Include descriptive statistics and appropriate visualizations\n",
    "# Your code here"
   ]
  },
  {
   "cell_type": "markdown",
   "metadata": {},
   "source": [
    "## 3. Bivariate Analysis\n",
    "\n",
    "Explore relationships between pairs of climate variables."
   ]
  },
  {
   "cell_type": "code",
   "execution_count": null,
   "metadata": {},
   "outputs": [],
   "source": [
    "# TODO: Perform bivariate analysis\n",
    "# Include correlation analysis and appropriate visualizations\n",
    "# Your code here"
   ]
  },
  {
   "cell_type": "markdown",
   "metadata": {},
   "source": [
    "## 4. Multivariate Analysis\n",
    "\n",
    "Investigate relationships among three or more variables."
   ]
  },
  {
   "cell_type": "code",
   "execution_count": null,
   "metadata": {},
   "outputs": [],
   "source": [
    "# TODO: Perform multivariate analysis\n",
    "# Create advanced visualizations showing multiple variables\n",
    "# Your code here"
   ]
  },
  {
   "cell_type": "markdown",
   "metadata": {},
   "source": [
    "## 5. Conclusions and Insights\n",
    "\n",
    "Summarize your findings and discuss their implications."
   ]
  },
  {
   "cell_type": "markdown",
   "metadata": {},
   "source": [
    "# TODO: Write your conclusions here"
   ]
  }
 ],
 "metadata": {
  "kernelspec": {
   "display_name": "Python 3 (ipykernel)",
   "language": "python",
   "name": "python3"
  },
  "language_info": {
   "codemirror_mode": {
    "name": "ipython",
    "version": 3
   },
   "file_extension": ".py",
   "mimetype": "text/x-python",
   "name": "python",
   "nbconvert_exporter": "python",
   "pygments_lexer": "ipython3",
   "version": "3.12.7"
  }
 },
 "nbformat": 4,
 "nbformat_minor": 4
}
